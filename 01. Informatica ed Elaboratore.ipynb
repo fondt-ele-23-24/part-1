{
 "cells": [
  {
   "cell_type": "markdown",
   "metadata": {
    "slideshow": {
     "slide_type": "slide"
    }
   },
   "source": [
    "# Introduzione all'Informatica"
   ]
  },
  {
   "cell_type": "markdown",
   "metadata": {
    "slideshow": {
     "slide_type": "subslide"
    }
   },
   "source": [
    "## Cos'è l'informatica?\n",
    "\n",
    "> __Che cos'è l'Informatica?__"
   ]
  },
  {
   "cell_type": "markdown",
   "metadata": {
    "slideshow": {
     "slide_type": "fragment"
    }
   },
   "source": [
    "> __Non è facile da definire!__\n",
    "\n",
    "Alcune affermazioni vere:\n",
    "\n",
    "* L'informatica è parente stretta della matematica\n",
    "* Ha a che fare con il modo in cui risolviamo i problemi\n",
    "* Si può fare anche senza un calcolatore!\n",
    "\n",
    "Vediamo qualche esempio..."
   ]
  },
  {
   "cell_type": "markdown",
   "metadata": {
    "slideshow": {
     "slide_type": "subslide"
    }
   },
   "source": [
    "## Un Primo Esempio\n",
    "\n",
    "__Problema: cercare un parola su un dizionario__\n",
    "\n",
    "<center>\n",
    "<img src=\"assets/dizionario.jpg\" width=55%/>\n",
    "</center>\n",
    "\n",
    "> **Come risolverlo?**"
   ]
  },
  {
   "cell_type": "markdown",
   "metadata": {
    "slideshow": {
     "slide_type": "subslide"
    }
   },
   "source": [
    "## Un Primo Esempio\n",
    "\n",
    "**Proviamo a descrivere un metodo di soluzione:**\n",
    "\n",
    "* Sia $w$ la parola da cercare\n",
    "* Aprire il dizionario a caso\n",
    "* Siano $w', w''$ le parola in cima alla pagina sx/dx\n",
    "* Se $w < w'$, ci restringiamo alle pagine precedenti e ripetiamo\n",
    "* Se $w > w''$, ci restringiamo alle pagine successive e ripetiamo\n",
    "* Altrimenti cerchiamo $w$ sulla pagina"
   ]
  },
  {
   "cell_type": "markdown",
   "metadata": {
    "slideshow": {
     "slide_type": "subslide"
    }
   },
   "source": [
    "## Un Secondo Esempio\n",
    "\n",
    "**Problema: riposizionarci per ordine alfabetico**\n",
    "\n",
    "<center>\n",
    "<img src=\"assets/full-classroom.jpg\" width=60%/>\n",
    "</center>\n",
    "\n",
    "> **Come risolverlo?**"
   ]
  },
  {
   "cell_type": "markdown",
   "metadata": {
    "slideshow": {
     "slide_type": "subslide"
    }
   },
   "source": [
    "## Un Secondo Esempio\n",
    "\n",
    "**Proviamo a descrivere un metodo di soluzione:**\n",
    "\n",
    "* La prima coppia è in ordine?\n",
    "* Se non lo è, si _scambia_\n",
    "* Poi guardiamo la seconda coppia e così via\n",
    "* Alla fine, si ripete tutto il processo\n",
    "* Quando non ci sono più scambi, l'aula è ordinata"
   ]
  },
  {
   "cell_type": "markdown",
   "metadata": {
    "slideshow": {
     "slide_type": "subslide"
    }
   },
   "source": [
    "## Un Terzo Esempio\n",
    "\n",
    "**Problema: determinare il massimo di un insieme di numeri**\n",
    "\n",
    "<center>\n",
    "<img src=\"assets/tiles.jpg\" width=45%/>\n",
    "</center>\n",
    "\n",
    "> **Come risolverlo?**"
   ]
  },
  {
   "cell_type": "markdown",
   "metadata": {
    "slideshow": {
     "slide_type": "subslide"
    }
   },
   "source": [
    "## Un Terzo Esempio\n",
    "\n",
    "**Proviamo a descrivere un metodo di soluzione:**\n",
    "\n",
    "* Prendiamo in mano un numero a caso (sia questo $m$)\n",
    "* $m$ è temporaneamente il nostro massimo\n",
    "* Prendiamo in mano tutti gli altri numeri uno per volta\n",
    "* Sia $v$ il numero corrente\n",
    "* Se $v > m$, allora $v$ è il nuovo massimo. Mettiamo da parte $m$\n",
    "* Altrimenti, mettiamo da parte $v$ e passiamo al prossimo numero"
   ]
  },
  {
   "cell_type": "markdown",
   "metadata": {
    "slideshow": {
     "slide_type": "subslide"
    }
   },
   "source": [
    "## Un Quarto Esempio\n",
    "\n",
    "**Problema: calcolare X + Y, usando solo incrementi semplici**\n",
    "\n",
    "<center>\n",
    "<img src=\"assets/sum.png\" width=50%/>\n",
    "</center>\n",
    "\n",
    "> **Come risolverlo?**"
   ]
  },
  {
   "cell_type": "markdown",
   "metadata": {
    "slideshow": {
     "slide_type": "subslide"
    }
   },
   "source": [
    "## Un Quarto Esempio\n",
    "\n",
    "**Proviamo a descrivere un metodo di soluzione:**\n",
    "\n",
    "* $Z = X$\n",
    "* Ripeti $Y$ volte:\n",
    "  - $Z = Z + 1$\n",
    "\n",
    "Alla fine del procedimento $Z$ vale $X + Y$"
   ]
  },
  {
   "cell_type": "markdown",
   "metadata": {
    "slideshow": {
     "slide_type": "subslide"
    }
   },
   "source": [
    "## Algoritmi\n",
    "\n",
    "**Quelli che abbiamo visto sono esempi di _algoritmi_**\n",
    "\n",
    "> **Un algoritmo è _processo che risolve un problema_**\n",
    "\n",
    "* È un po' generico, ma cattura l'idea fondamentale\n",
    "* Proviamo ad essere più formali...\n",
    "\n",
    "**Sia data una funzione:**\n",
    "$$\n",
    "f: D_I \\mapsto D_O\n",
    "$$\n",
    "\n",
    "* $D_I, D_O$ sono il dominio di ingresso e di uscita (input/output)\n",
    "* $f$ descrive quali input vanno mappati in quali output\n",
    "\n",
    "**In altre parole: una funzione _descrive un problema_**"
   ]
  },
  {
   "cell_type": "markdown",
   "metadata": {
    "slideshow": {
     "slide_type": "slide"
    }
   },
   "source": [
    "# Algoritmi ed Elaboratori"
   ]
  },
  {
   "cell_type": "markdown",
   "metadata": {
    "slideshow": {
     "slide_type": "subslide"
    }
   },
   "source": [
    "## Algoritmi ed Elaboratori\n",
    "\n",
    "Se una funzione definisce un problema, allora...\n",
    "\n",
    "> **Un algoritmo è un procedimento che _computa (o valuta)_ una funzione $f: D_I \\mapsto D_O$**\n",
    "\n",
    "**Intuitivamente**\n",
    "\n",
    "* Un algoritmo specifica una sequenza di operazioni elementari\n",
    "* ...Che, se eseguite, producono la soluzione del problema\n",
    "\n",
    "**Per eseguire un algoritmo, è necessario un _elaboratore_**"
   ]
  },
  {
   "cell_type": "markdown",
   "metadata": {
    "slideshow": {
     "slide_type": "subslide"
    }
   },
   "source": [
    "## Elaboratori\n",
    "\n",
    "**Questo è un elaboratore:**\n",
    "\n",
    "<center>\n",
    "<img src=\"assets/dell.jpg\" width=70%/>\n",
    "</center>"
   ]
  },
  {
   "cell_type": "markdown",
   "metadata": {
    "slideshow": {
     "slide_type": "subslide"
    }
   },
   "source": [
    "## Elaboratori\n",
    "\n",
    "**Questo è un elaboratore:**\n",
    "\n",
    "<center>\n",
    "<img src=\"assets/iPhone.png\" width=45%/>\n",
    "</center>"
   ]
  },
  {
   "cell_type": "markdown",
   "metadata": {
    "slideshow": {
     "slide_type": "subslide"
    }
   },
   "source": [
    "## Elaboratori\n",
    "\n",
    "**Questo è un elaboratore:**\n",
    "\n",
    "<center>\n",
    "<img src=\"assets/hpc.png\" width=75%/>\n",
    "</center>"
   ]
  },
  {
   "cell_type": "markdown",
   "metadata": {
    "slideshow": {
     "slide_type": "subslide"
    }
   },
   "source": [
    "## Elaboratori\n",
    "\n",
    "**Questo è un elaboratore:**\n",
    "\n",
    "<center>\n",
    "<img src=\"assets/plc.png\" width=55%/>\n",
    "</center>"
   ]
  },
  {
   "cell_type": "markdown",
   "metadata": {
    "slideshow": {
     "slide_type": "subslide"
    }
   },
   "source": [
    "## Elaboratori\n",
    "\n",
    "**Questo è un elaboratore:**\n",
    "\n",
    "<center>\n",
    "<img src=\"assets/apple1.png\" width=65%/>\n",
    "</center>"
   ]
  },
  {
   "cell_type": "markdown",
   "metadata": {
    "slideshow": {
     "slide_type": "fragment"
    }
   },
   "source": [
    "(Apple I, 1976)"
   ]
  },
  {
   "cell_type": "markdown",
   "metadata": {
    "slideshow": {
     "slide_type": "subslide"
    }
   },
   "source": [
    "## Elaboratori\n",
    "\n",
    "**Questo è un elaboratore:**\n",
    "\n",
    "<center>\n",
    "<img src=\"assets/babbage.png\" width=50%/>\n",
    "</center>"
   ]
  },
  {
   "cell_type": "markdown",
   "metadata": {
    "slideshow": {
     "slide_type": "fragment"
    }
   },
   "source": [
    "(Analytical Engine, 1837, di Charles Babbage -- mai completato)"
   ]
  },
  {
   "cell_type": "markdown",
   "metadata": {
    "slideshow": {
     "slide_type": "subslide"
    }
   },
   "source": [
    "## Elaboratori\n",
    "\n",
    "**Questo è un elaboratore (beh, soddisfa la definizione):**\n",
    "\n",
    "<center>\n",
    "<img src=\"assets/human.png\" width=70%/>\n",
    "</center>"
   ]
  },
  {
   "cell_type": "markdown",
   "metadata": {
    "slideshow": {
     "slide_type": "subslide"
    }
   },
   "source": [
    "## Cos'è un Elaboratore\n",
    "\n",
    "Dal nostro punto di vista:\n",
    "\n",
    "> **Un elaboratore è una entità che può:**\n",
    ">\n",
    "> * *Memorizzare* informazioni\n",
    "> * Eseguire su di esse alcune *operazioni elementari*\n",
    "\n",
    "**Quindi l'elaboratore determina:**\n",
    "\n",
    "* I _dati elementari_ che possiamo usare\n",
    "* Le _operazioni elementari_ che possiamo effettuare\n",
    "\n",
    "E.g. dati: numeri interi, operazioni: '+', '<', '='"
   ]
  },
  {
   "cell_type": "markdown",
   "metadata": {
    "slideshow": {
     "slide_type": "subslide"
    }
   },
   "source": [
    "## Elaboratori ed Informatica\n",
    "\n",
    "**Abbiamo detto che:**\n",
    "\n",
    "* Un elaboratore è una entità che può _memorizzare_ informazioni\n",
    "* ...Ed eseguire su di esse alcune _operazioni elementari_\n",
    "\n",
    "...Da cui possiamo azzardare una definizione di informatica\n",
    "\n",
    "> **L'informatica è la scienza della _rappresentazione_ ed _elaborazione_ dell'_informazione_**\n",
    "\n",
    "**L'attività di preparare un algoritmo per un elaboratore:**\n",
    "\n",
    "* Si chiama _implementazione_ o _codifica_ (coding)\n",
    "* ...E produce come risultato un programma\n",
    "\n",
    "Torneremo su queste due definizione tra breve"
   ]
  }
 ],
 "metadata": {
  "celltoolbar": "Slideshow",
  "kernelspec": {
   "display_name": "Python 3 (ipykernel)",
   "language": "python",
   "name": "python3"
  },
  "language_info": {
   "codemirror_mode": {
    "name": "ipython",
    "version": 3
   },
   "file_extension": ".py",
   "mimetype": "text/x-python",
   "name": "python",
   "nbconvert_exporter": "python",
   "pygments_lexer": "ipython3",
   "version": "3.11.7"
  },
  "rise": {
   "center": false,
   "enable_chalkboard": true,
   "transition": "fade"
  }
 },
 "nbformat": 4,
 "nbformat_minor": 4
}
