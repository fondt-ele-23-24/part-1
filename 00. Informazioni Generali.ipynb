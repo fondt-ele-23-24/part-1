{
 "cells": [
  {
   "cell_type": "markdown",
   "metadata": {
    "slideshow": {
     "slide_type": "slide"
    }
   },
   "source": [
    "# Informazioni Generali"
   ]
  },
  {
   "cell_type": "markdown",
   "metadata": {
    "slideshow": {
     "slide_type": "subslide"
    }
   },
   "source": [
    "## Il Corso\n",
    "\n",
    "**Obiettivo: utilizzo della programmazione per il calcolo scientifico**\n",
    "\n",
    "Argomenti trattati:\n",
    "\n",
    "* Linguaggio Python\n",
    "* Rudimenti di programmazione imperativa\n",
    "* Cenni di programmazione ad oggetti e funzionale\n",
    "* Utilizzo di algoritmi di calcolo numerico\n",
    "\n",
    "In sintesi:\n",
    "\n",
    "* Non ci si aspetta che diventiate programmatori esperti\n",
    "* ...Ma che sappiate _usare il calcolatore per risolvere problemi pratici_"
   ]
  },
  {
   "cell_type": "markdown",
   "metadata": {
    "slideshow": {
     "slide_type": "subslide"
    }
   },
   "source": [
    "## Il Docente\n",
    "\n",
    "**Docente:** Michele Lombardi\n",
    "\n",
    "* Email: [`michele.lombardi2@unibo.it`](mailto:michele.lombardi2@unibo.it)\n",
    "* Ufficio: Viale del Risorgimento 2 (vicino all'aula 5.7)\n",
    "* Telefono: 051 20 93270\n",
    "\n",
    "**Ricevimento prenotabile tramite**\n",
    "\n",
    "> **https://book.morgen.so/michelelombardi03/student-hours**\n",
    "\n",
    "* Via MS Teams, salvo diverso avviso\n",
    "* In ufficio, previo avviso via email"
   ]
  },
  {
   "cell_type": "markdown",
   "metadata": {
    "slideshow": {
     "slide_type": "subslide"
    }
   },
   "source": [
    "## Modalità e Materiale di Insegnamento\n",
    "\n",
    "**Modalità di insegnamento**\n",
    "\n",
    "Lezioni frontali, ma soprattutto _attività pratica_\n",
    "\n",
    "* Orario del corso disponibile sul [sistema informatizzato](https://corsi.unibo.it/laurea/elettrica/orario-lezioni?calendar_view=&date=2024-02-19&insegnamenti=2023-000-381714--I)\n",
    "* Utilizzo dei quarti d'ora accademici: da decidere adesso!\n",
    "\n",
    "**Materiale didattico**\n",
    "\n",
    "* Disponibile su [virtuale.unibo.it](https://virtuale.unibo.it/course/view.php?id=49519)\n",
    "* Materiale primario: codice e lezioni eseguibili (notebook Jupyter)\n",
    "* Materiale secondario: slide in PDF\n",
    "* Libro di riferimento: nessuno, ma si può usare [\"The Python Tutorial\"](https://docs.python.org/3/tutorial/)\n",
    "* Le registrazioni delle lezioni saranno disponibili sul sito del corso"
   ]
  },
  {
   "cell_type": "markdown",
   "metadata": {
    "slideshow": {
     "slide_type": "subslide"
    }
   },
   "source": [
    "## Modalità d'Esame\n",
    "\n",
    "**Una _prova al calcolatore_**\n",
    "\n",
    "* Programmazione _in laboratorio_ (2h di tempo)\n",
    "* Fac-simile d'esame disponibili dopo metà corso\n",
    "\n",
    "**Alcuni commenti importanti**\n",
    "\n",
    "* La correzione sarà _parzialmente automatizzata_\n",
    "* Automatizzata $\\Rightarrow$ il codice _deve eseguire_\n",
    "* Parzialmente $\\Rightarrow$ gli errori non saranno considerati tutti uguali\n",
    "\n",
    "**Esiti e registrazione**\n",
    "\n",
    "* Il voto ha validità di almeno un anno\n",
    "* In caso di consegna di un nuovo elaborato, il voto viene rimpiazzato\n",
    "* La registrazione avverrà dopo 10gg (scrivere una email per _non_ registrare)"
   ]
  },
  {
   "cell_type": "markdown",
   "metadata": {
    "slideshow": {
     "slide_type": "subslide"
    }
   },
   "source": [
    "## Patti Chiari, Amicizia Lunga\n",
    "\n",
    "**Questo esame non è (particolarmente) difficile**\n",
    "\n",
    "...Ma diventa _praticamente impossibile se non si fa molto esercizio_\n",
    "\n",
    "> **Gli esercizi _devono funzionare_ = eseguire con i risultati corretti**\n",
    "\n",
    "* Non basta che \"il codice sembri giusto\"!\n",
    "* Non basta che \"il codice sia uguale alle soluzioni\"!\n",
    "* Evitate di guardare le soluzioni troppo spesso\n",
    "* Installate Python sul PC personale il prima possibile"
   ]
  }
 ],
 "metadata": {
  "celltoolbar": "Slideshow",
  "kernelspec": {
   "display_name": "Python 3 (ipykernel)",
   "language": "python",
   "name": "python3"
  },
  "language_info": {
   "codemirror_mode": {
    "name": "ipython",
    "version": 3
   },
   "file_extension": ".py",
   "mimetype": "text/x-python",
   "name": "python",
   "nbconvert_exporter": "python",
   "pygments_lexer": "ipython3",
   "version": "3.11.7"
  },
  "rise": {
   "center": false,
   "enable_chalkboard": true,
   "transition": "fade"
  }
 },
 "nbformat": 4,
 "nbformat_minor": 4
}
