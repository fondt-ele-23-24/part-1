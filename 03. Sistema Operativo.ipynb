{
 "cells": [
  {
   "cell_type": "markdown",
   "metadata": {
    "slideshow": {
     "slide_type": "slide"
    }
   },
   "source": [
    "# Sistema Operativo"
   ]
  },
  {
   "cell_type": "markdown",
   "metadata": {
    "slideshow": {
     "slide_type": "subslide"
    }
   },
   "source": [
    "## Il Sistema Operativo\n",
    "\n",
    "**Il sistema operativo è un insieme di programmi e librerie**\n",
    "\n",
    "<center>\n",
    "<img src=\"assets/stack.png\" width=30%/>\n",
    "</center>\n",
    "\n",
    "* Fa da interfaccia tra l'hardware ed i programmi applicativi\n",
    "* ...Realizzando a tutti gli effetti una _macchina virtuale_\n",
    "\n",
    "**In altre parole:**\n",
    "\n",
    "* Ci sono innumerevoli tipi di macchina fisica...\n",
    "* ...Ma un numero relativamente ridotto di SO\n",
    "  - E.g. Windows, OSX, Linux, iOS, Android..."
   ]
  },
  {
   "cell_type": "markdown",
   "metadata": {
    "slideshow": {
     "slide_type": "subslide"
    }
   },
   "source": [
    "## Il Sistema Operativo\n",
    "\n",
    "**Il sistema operativo ha diverse funzioni**\n",
    "\n",
    "<center>\n",
    "<img src=\"assets/os.png\" width=35%/>\n",
    "</center>\n",
    "\n",
    "**Gestione dei processi**\n",
    "\n",
    "* Gestisce l'_unità di elaborazione_ (CPU)\n",
    "* Permette (e.g.) l'esecuzione  dei programmi"
   ]
  },
  {
   "cell_type": "markdown",
   "metadata": {
    "slideshow": {
     "slide_type": "subslide"
    }
   },
   "source": [
    "## Il Sistema Operativo\n",
    "\n",
    "**Il sistema operativo ha diverse funzioni**\n",
    "\n",
    "<center>\n",
    "<img src=\"assets/os.png\" width=35%/>\n",
    "</center>\n",
    "\n",
    "**Gestione della memoria**\n",
    "\n",
    "* Gestisce la _memoria centrale_\n",
    "* Permette (e.g.) l'allocazione di memoria ai programmi"
   ]
  },
  {
   "cell_type": "markdown",
   "metadata": {
    "slideshow": {
     "slide_type": "subslide"
    }
   },
   "source": [
    "## Il Sistema Operativo\n",
    "\n",
    "**Il sistema operativo ha diverse funzioni**\n",
    "\n",
    "<center>\n",
    "<img src=\"assets/os.png\" width=35%/>\n",
    "</center>\n",
    "\n",
    "**Gestione delle periferiche**\n",
    "\n",
    "* Gestisce le unità di _input/output_\n",
    "* Permette (e.g.) ai programmi di accedervi"
   ]
  },
  {
   "cell_type": "markdown",
   "metadata": {
    "slideshow": {
     "slide_type": "subslide"
    }
   },
   "source": [
    "## Il Sistema Operativo\n",
    "\n",
    "**Il sistema operativo ha diverse funzioni**\n",
    "\n",
    "<center>\n",
    "<img src=\"assets/os.png\" width=35%/>\n",
    "</center>\n",
    "\n",
    "**File System**\n",
    "\n",
    "* Gestisce dal punto di vista logico la _memoria di massa_\n",
    "* Fornisce (e.g.) il concetto di file e directory (cartella)"
   ]
  },
  {
   "cell_type": "markdown",
   "metadata": {
    "slideshow": {
     "slide_type": "subslide"
    }
   },
   "source": [
    "## Il Sistema Operativo\n",
    "\n",
    "**Il sistema operativo ha diverse funzioni**\n",
    "\n",
    "<center>\n",
    "<img src=\"assets/os.png\" width=35%/>\n",
    "</center>\n",
    "\n",
    "**Interfaccia utente**\n",
    "\n",
    "* Permette ad un utente di _interagire_ con il SO\n",
    "* Può essere grafica (GUI) o testuale (shell)"
   ]
  },
  {
   "cell_type": "markdown",
   "metadata": {
    "slideshow": {
     "slide_type": "slide"
    }
   },
   "source": [
    "# Interfaccia Utente e Terminale"
   ]
  },
  {
   "cell_type": "markdown",
   "metadata": {
    "slideshow": {
     "slide_type": "subslide"
    }
   },
   "source": [
    "## Interfaccia Utente\n",
    "\n",
    "**L'interfaccia utente permette l'interazione con un utente**\n",
    "\n",
    "Ve ne sono due grandi categorie:\n",
    "\n",
    "* Interfacce grafiche  (Graphical User Interface – GUI)\n",
    "  - Interazione per azionamento di elementi grafici\n",
    "* Interfacce testuali (shell)\n",
    "  - Interazione mediante comandi testuali\n",
    "\n",
    "**Spesso sono fornite entrambe!**\n",
    "\n",
    "* Windows: GUI + PowerShell\n",
    "* OS X: GUI + \"terminale\"\n",
    "* Linux: \"terminale\" + GUI"
   ]
  },
  {
   "cell_type": "markdown",
   "metadata": {
    "slideshow": {
     "slide_type": "subslide"
    }
   },
   "source": [
    "## Interfaccia Utente\n",
    "\n",
    "**Le interfacce grafiche:**\n",
    "\n",
    "* Fanno uso massiccio di metafore\n",
    "  - E.g. desktop (scrivania), documenti, cartelle, cestino...\n",
    "* Indicano le entità disponibili mediante elementi grafici\n",
    "  - E.g. Pulsanti, icone, caselle\n",
    "* Gestiscono l'interazione per azionamento dell'elemento grafico\n",
    "  - E.g. click, click destro, touch\n",
    "* Assegnano aree grafiche ai programmi\n",
    "  - E.g. finestre"
   ]
  },
  {
   "cell_type": "markdown",
   "metadata": {
    "slideshow": {
     "slide_type": "subslide"
    }
   },
   "source": [
    "## Interfaccia Utente\n",
    "\n",
    "**Esempio: l'interfaccia grafica di Win10**\n",
    "\n",
    "<center>\n",
    "<img src=\"assets/win_gui.png\" width=60%/>\n",
    "</center>"
   ]
  },
  {
   "cell_type": "markdown",
   "metadata": {
    "slideshow": {
     "slide_type": "subslide"
    }
   },
   "source": [
    "## Interfaccia Utente\n",
    "\n",
    "**Le interfacce testuali derivano dai supercomputer degli anni '60**\n",
    "\n",
    "<center>\n",
    "<img src=\"assets/gui_term.png\" width=55%/>\n",
    "</center>"
   ]
  },
  {
   "cell_type": "markdown",
   "metadata": {
    "slideshow": {
     "slide_type": "subslide"
    }
   },
   "source": [
    "## Interfaccia Utente\n",
    "\n",
    "**Le interfacce testuali:**\n",
    "\n",
    "* Si chiamano anche (emulatori di) _terminali_\n",
    "* Permettono l'interazione con il  SO attraverso:\n",
    "  - L'esecuzione di comandi e programmi\n",
    "  - ...Che vengono digitati ed eseguiti (di solito premendo \"invio\")\n",
    "* In questo modo permettono di:\n",
    "  - Interagire con i file su disco\n",
    "  - Interagire con le risorse di sistema\n",
    "  - Preparare documenti, programmare, etc.\n",
    "\n",
    "> **Nella seconda parte della lezione di oggi impareremo ad usare un terminale su Windows**"
   ]
  },
  {
   "cell_type": "markdown",
   "metadata": {
    "slideshow": {
     "slide_type": "subslide"
    }
   },
   "source": [
    "## Interfaccia Utente\n",
    "\n",
    "**Esempio: emulatore di terminale su OSX**\n",
    "\n",
    "<center>\n",
    "<img src=\"assets/osx_term.png\" width=75%/>\n",
    "</center>"
   ]
  },
  {
   "cell_type": "markdown",
   "metadata": {
    "slideshow": {
     "slide_type": "subslide"
    }
   },
   "source": [
    "## Esercizio: Aprire un Terminale\n",
    "\n",
    "**Vediamo adesso come aprire un terminale (per Andaconda)**\n",
    "\n",
    "Il terminale è un normale programma, che potete avviare come tutti gli altri:\n",
    "\n",
    "* Su _Windows_:\n",
    "  - Cliccate sul menu \"Avvio\" (o premete il tasto Win)\n",
    "  - Cliccate sulla search box e cercate \"anaconda powershell\"\n",
    "  - Cliccate sull'entry \"Anaconda Powershell Prompt\" appena la vedete\n",
    "* Su _OS X_:\n",
    "  - Aprite spotlight\n",
    "  - Cercate \"terminale\"\n",
    "  - Cliccate l'entry \"terminale\" appena la vedete\n",
    "* Su _Linux_: immagino che sappiate già come si apre un terminale ;-)\n",
    "\n",
    "**In alternativa, potete cercarlo nella lista di tutte le applicazioni installate**"
   ]
  },
  {
   "cell_type": "markdown",
   "metadata": {
    "slideshow": {
     "slide_type": "slide"
    }
   },
   "source": [
    "# Gestione dei Processi"
   ]
  },
  {
   "cell_type": "markdown",
   "metadata": {
    "slideshow": {
     "slide_type": "subslide"
    }
   },
   "source": [
    "## Gestione dei Processi\n",
    "\n",
    "**Una delle funzione del SO è gestire i processi**\n",
    "\n",
    "> **Un processo  è un _programma in esecuzione_**\n",
    "\n",
    "* Un programma è un _insieme di istruzioni_ per un elaboratore\n",
    "* Quando viene eseguito, _genera un processo_\n",
    "\n",
    "Un singolo programma può generare più processi\n",
    "\n",
    "**La gestione dei processi include:**\n",
    "\n",
    "- Avvio di un processo\n",
    "- Interruzione e sospensione di un processo\n",
    "- Elenco dei processi in esecuzione\n",
    "- Condivisione della CPU tra processi"
   ]
  },
  {
   "cell_type": "markdown",
   "metadata": {
    "slideshow": {
     "slide_type": "subslide"
    }
   },
   "source": [
    "## Esercizio: Gestione Processi\n",
    "\n",
    "**Su Win potete accedere ad una \"lista di processi\" come segue:**\n",
    "\n",
    "* Premete Ctrl+Alt+Canc\n",
    "* Quindi selezionate \"Gestione Attività\"**\n",
    "\n",
    "<center>\n",
    "<img src=\"assets/task_mgr.png\" width=30%/>\n",
    "</center>\n",
    "\n",
    "Selezionando un processo, Windows vi propone un pulsante per interromperlo"
   ]
  },
  {
   "cell_type": "markdown",
   "metadata": {
    "slideshow": {
     "slide_type": "subslide"
    }
   },
   "source": [
    "## Esercizio: Gestione Processi\n",
    "\n",
    "**Su OSX potete accedere ad una \"lista di processi\" come segue:**\n",
    "\n",
    "* Aprite spotlight\n",
    "* Quindi cercate (ed avviate) \"Monitor Attività\"\n",
    "\n",
    "<center>\n",
    "<img src=\"assets/act_mon.png\" width=45%/>\n",
    "</center>\n",
    "\n",
    "Selezionando un processo, OSX vi propone un pulsante per interromperlo"
   ]
  },
  {
   "cell_type": "markdown",
   "metadata": {
    "slideshow": {
     "slide_type": "subslide"
    }
   },
   "source": [
    "## Esercizio: Gestione Processi\n",
    "\n",
    "**Da terminale, potete fare lo stesso come segue**\n",
    "\n",
    "* Su _Windows_:\n",
    "  - Avviate un terminale\n",
    "  - Digitate il comando \"`gps`\", poi premete invio\n",
    "* Su _OSX_ (e Linux):\n",
    "  - Avviate un terminale\n",
    "  - Digitate il comando \"`ps`\"\n",
    "  \n",
    "L'output dei due comandi è piuttosto diverso:\n",
    "\n",
    "* Windows stampa per default tutti i processi in esecuzione\n",
    "* OSX/Linux solo quelli che avete avviato dal terminale corrente\n",
    "  - Se li volete tutti, dovete usare \"`ps -A`\""
   ]
  },
  {
   "cell_type": "markdown",
   "metadata": {
    "slideshow": {
     "slide_type": "slide"
    }
   },
   "source": [
    "# Gestione delle Memoria"
   ]
  },
  {
   "cell_type": "markdown",
   "metadata": {
    "slideshow": {
     "slide_type": "subslide"
    }
   },
   "source": [
    "## Gestione della Memoria\n",
    "\n",
    "**Il sistema operativo ha il compito di gestire la memoria centrale**\n",
    "\n",
    "* _Alloca memoria_ (RAM) ai programmi al momento dell'avvio\n",
    "  - Si tratta del loro \"spazio di lavoro\"\n",
    "  - ...Senza il quale non possono funzionare\n",
    "* In caso di utlizzo di memoria eccessivo\n",
    "  - Il SO sposta su disco le aree destinate ai processi meno attivi\n",
    "  - Si parla di _\"swap memory\"_\n",
    "  - ...E si tratta di una operazione molto ineffciente"
   ]
  },
  {
   "cell_type": "markdown",
   "metadata": {
    "slideshow": {
     "slide_type": "subslide"
    }
   },
   "source": [
    "## Unità di Misura per la Memoria\n",
    "\n",
    "**Le informazioni sono rappresentate come sequenze di 0/1**\n",
    "\n",
    "* Una cifra digitale, i.e. 0 o 1, si chiama _bit_ (BInary digT)\n",
    "* 8 bit formanuo un _Byte_\n",
    "\n",
    "Dopodiché si usano i prefissi del Sistema Internazionale, con una particolarità:\n",
    "\n",
    "* Se si usa la scrittura kB, MB, GB, etc.\n",
    "  - Si legge _kilobyte_, _megabyte_, _gigabyte_, etc.\n",
    "  - ...E si intente 10^3, 10^6, 10^9 Byte\n",
    "* Se si usa la scrittura KiB, MiB, GiB, etc.\n",
    "  - Si legge _kibibyte_, _megibyte_, _gigibyte_, etc.\n",
    "  - ...E si intente 10^10 (1024), 10^20 (1024^2), 10^30 (1024^3) Byte"
   ]
  },
  {
   "cell_type": "markdown",
   "metadata": {
    "slideshow": {
     "slide_type": "subslide"
    }
   },
   "source": [
    "## Esercizio: Gestione della Memoria\n",
    "\n",
    "**Aprite di nuovo \"Gestione Attività\" (o \"Monitor Attività\")**\n",
    "\n",
    "Su windows, una colonna visualizza la quantità di memoria utilizzata\n",
    "\n",
    "<center>\n",
    "<img src=\"assets/task_mgr.png\" width=45%/>\n",
    "</center>"
   ]
  },
  {
   "cell_type": "markdown",
   "metadata": {
    "slideshow": {
     "slide_type": "subslide"
    }
   },
   "source": [
    "## Esercizio: Gestione della Memoria\n",
    "\n",
    "**Su OSX, aprite di nuovo \"Monitor Attività\"**\n",
    "\n",
    "Una pagina è dedicata a visualizzare informazioni sull'utilizzo di memoria\n",
    "\n",
    "<center>\n",
    "<img src=\"assets/act_mon_mem.png\" width=65%/>\n",
    "</center>"
   ]
  },
  {
   "cell_type": "markdown",
   "metadata": {
    "slideshow": {
     "slide_type": "subslide"
    }
   },
   "source": [
    "## Esercizio: Gestione della Memoria\n",
    "\n",
    "**Da terminale, potete visualizzare la memoria disponibile:**\n",
    "\n",
    "* Su OSX/Linux (e su certe versioni di PowerShell):\n",
    "  - Digitate il comando \"`free -m`\" e premete invio\n",
    "\n",
    "**Qualche informazione:**\n",
    "\n",
    "* \"`free`\" è il nome del comando (o programma) che volete eseguire\n",
    "* Premere \"invio\" richiede al terminale di eseguire il comando\n",
    "* \"`-m`\" è un _argomento da riga di comando_\n",
    "  - Indica al comando/programma di comportarsi in modo leggermente diverso\n",
    "  - In questo caso, visualizza i valori in mebibyte\n",
    "* Molti comandi supportano l'argomento \"`--help`\"\n",
    "  - ...Che visualizza una breve guida sull'utilizzo del comando"
   ]
  },
  {
   "cell_type": "markdown",
   "metadata": {
    "slideshow": {
     "slide_type": "slide"
    }
   },
   "source": [
    "# Gestione Periferiche e File System"
   ]
  },
  {
   "cell_type": "markdown",
   "metadata": {
    "slideshow": {
     "slide_type": "subslide"
    }
   },
   "source": [
    "## Gestione delle Periferiche\n",
    "\n",
    "**Il sistema ha il compito di gestire le periferiche di I/O**\n",
    "\n",
    "* Fornisce ai programmi delle _funzioni di accesso standardizzate_\n",
    "  - Si usa il termine Application Programming Interface (API)...\n",
    "  - ...Che nascono l'esatto modello di hardware collegato\n",
    "* L'implementazione di tali funzioni dipende dalla periferica\n",
    "  - Ci sono moltissimi tipi di periferica disponibili\n",
    "  - Soluzione: per ogni periferica, un _driver di dispositivo_\n",
    "  - Un \"driver\" è un programma/libreria che implementa l'API stabilita dal sistema operativo\n",
    "  - I driver sono tipicamente sviluppati dal produttore della periferica"
   ]
  },
  {
   "cell_type": "markdown",
   "metadata": {
    "slideshow": {
     "slide_type": "subslide"
    }
   },
   "source": [
    "## File System\n",
    "\n",
    "**Il File System è un componente del sistema operativo**\n",
    "\n",
    "* I driver rendono disponibile la memoria di massa\n",
    "* ...Ma la trattano come una unica sequenza di bit!\n",
    "* Il File System ne fornisce una _organizzazione_\n",
    "\n",
    "Tipicamente, questa è basata sulle astrazioni di _file_ e _directory_\n",
    "\n",
    "* \"Formattare\" un dispositivo\n",
    "* ...Significa predisporre questa organizzazione\n",
    "\n",
    "**Un _file_ è l'unità logica di memorizzazione delle informazioni:**\n",
    "\n",
    "* È un sequenza di byte\n",
    "* Ha un nome\n",
    "* ...E una serie di proprietà addizionali"
   ]
  },
  {
   "cell_type": "markdown",
   "metadata": {
    "slideshow": {
     "slide_type": "subslide"
    }
   },
   "source": [
    "## File System\n",
    "\n",
    "**Un esempio: finestra di ispezione file su OSX**\n",
    "\n",
    "<center>\n",
    "<img src=\"assets/file.png\" width=25%/>\n",
    "</center>"
   ]
  },
  {
   "cell_type": "markdown",
   "metadata": {
    "slideshow": {
     "slide_type": "subslide"
    }
   },
   "source": [
    "## File System\n",
    "\n",
    "**Il _nome di un file_ è nella forma: \"nome.estensione\"**\n",
    "\n",
    "Qualche esempio:\n",
    "\n",
    "* tesi.docx\n",
    "* budget.xlsx\n",
    "* README.txt\n",
    "* main.c\n",
    "\n",
    "**L'estensione è _facoltativa_:**\n",
    "\n",
    "* Alcuni SO la nascondono per default (e.g. Windows)\n",
    "* Indica al SO il tipo del contenuto nel file\n",
    "* ...e di conseguenza quale programma si può usare per aprirlo\n",
    "* Se rimossa o cambiata, non altera il contenuto"
   ]
  },
  {
   "cell_type": "markdown",
   "metadata": {
    "slideshow": {
     "slide_type": "subslide"
    }
   },
   "source": [
    "## File System\n",
    "\n",
    "**Il file system permette di effettuare operazioni sui file**\n",
    "\n",
    "* Creazione\n",
    "* Lettura/scrittura\n",
    "* Spostamento...\n",
    "\n",
    "**I file sono tipicamente organizzati in _directory_**\n",
    "\n",
    "* Una directory è un contenitore di file (o altre directory)\n",
    "  - Sono le \"cartelle\" di Windows/OSX\n",
    "* I file sono quindi organizzati in modo gerarchico\n",
    "  - La relazione è di quella di apparteneza (contenitore/contenuto)\n"
   ]
  },
  {
   "cell_type": "markdown",
   "metadata": {
    "slideshow": {
     "slide_type": "subslide"
    }
   },
   "source": [
    "## File System\n",
    "\n",
    "**Una organizzazione gerarchica forma sempre un albero:**\n",
    "\n",
    "<center>\n",
    "<img src=\"assets/fs_ref.png\" width=50%/>\n",
    "</center>\n",
    "\n",
    "Le frecce denotano appartenenza\n",
    "\n",
    "* Ogni file (in arancione) è sempre una foglia dell'albero\n",
    "* Una cartella può essere una foglia o contenere altri file"
   ]
  },
  {
   "cell_type": "markdown",
   "metadata": {
    "slideshow": {
     "slide_type": "subslide"
    }
   },
   "source": [
    "## File System\n",
    "\n",
    "**Una organizzazione gerarchica forma sempre un albero:**\n",
    "\n",
    "<center>\n",
    "<img src=\"assets/fs_ref.png\" width=50%/>\n",
    "</center>\n",
    "\n",
    "Le frecce denotano appartenenza\n",
    "\n",
    "* Ogni file (in arancione) è sempre una foglia dell'albero\n",
    "* Una cartella può essere una foglia o contenere altri file"
   ]
  },
  {
   "cell_type": "markdown",
   "metadata": {
    "slideshow": {
     "slide_type": "subslide"
    }
   },
   "source": [
    "## File System\n",
    "\n",
    "**Una organizzazione gerarchica forma sempre un albero:**\n",
    "\n",
    "<center>\n",
    "<img src=\"assets/fs_ref.png\" width=50%/>\n",
    "</center>\n",
    "\n",
    "Esiste sempre una _directory radice_\n",
    "\n",
    "* Su Windows: una cartella per \"disco\", e.g. \"C:\\\", \"D:\\\"...\n",
    "* Su Linux/OSX: una sola radice, chiamata semplicemente \"/\""
   ]
  },
  {
   "cell_type": "markdown",
   "metadata": {
    "slideshow": {
     "slide_type": "subslide"
    }
   },
   "source": [
    "## File System\n",
    "\n",
    "**Ogni file è identificato dal suo _percorso assoluto_**\n",
    "\n",
    "<center>\n",
    "<img src=\"assets/fs_ref.png\" width=50%/>\n",
    "</center>\n",
    "\n",
    "* Questo contiene il nome del file...\n",
    "* ....preceduto dalla sequenza di directory...\n",
    "* ...per raggiungerlo dalla radice"
   ]
  },
  {
   "cell_type": "markdown",
   "metadata": {
    "slideshow": {
     "slide_type": "subslide"
    }
   },
   "source": [
    "## File System\n",
    "\n",
    "**Ogni file è identificato dal suo _percorso assoluto_**\n",
    "\n",
    "<center>\n",
    "<img src=\"assets/fs_ref.png\" width=50%/>\n",
    "</center>\n",
    "\n",
    "Esempi di percorso assoluto su Win (\"\\\" separa le directory):\n",
    "\n",
    "* C:\\f1.c\n",
    "* C:\\dir1\\f4.txt\""
   ]
  },
  {
   "cell_type": "markdown",
   "metadata": {
    "slideshow": {
     "slide_type": "subslide"
    }
   },
   "source": [
    "## File System\n",
    "\n",
    "**Ogni file è identificato dal suo _percorso assoluto_**\n",
    "\n",
    "<center>\n",
    "<img src=\"assets/fs_ref.png\" width=50%/>\n",
    "</center>\n",
    "\n",
    "Esempi di percorso assoluto su OSX/Linux (\"/\" separa le directory):\n",
    "\n",
    "* /f1.c\n",
    "* /dir1/f4.txt\""
   ]
  },
  {
   "cell_type": "markdown",
   "metadata": {
    "slideshow": {
     "slide_type": "subslide"
    }
   },
   "source": [
    "## File System\n",
    "\n",
    "**Ogni file è identificato dal suo _percorso assoluto_**\n",
    "\n",
    "<center>\n",
    "<img src=\"assets/fs_ref2.png\" width=50%/>\n",
    "</center>\n",
    "\n",
    "* Conseguenza: due file possono avere lo stesso nome...\n",
    "* Ma solo se sono in directory diverse\n",
    "* E.g. \"/f1.c\" e \"/dir2/f1.c\""
   ]
  },
  {
   "cell_type": "markdown",
   "metadata": {
    "slideshow": {
     "slide_type": "subslide"
    }
   },
   "source": [
    "## File System\n",
    "\n",
    "**Un programma è sempre associato ad una _directory corrente_**\n",
    "\n",
    "<center>\n",
    "<img src=\"assets/fs_ref3.png\" width=50%/>\n",
    "</center>\n",
    "\n",
    "* È possibile riferirsi ad un file indicandone il percorso...\n",
    "* ...rispetto alla directory corrente\n",
    "* In questo caso si parla di _percorso relativo_"
   ]
  },
  {
   "cell_type": "markdown",
   "metadata": {
    "slideshow": {
     "slide_type": "subslide"
    }
   },
   "source": [
    "## File System\n",
    "\n",
    "**Un programma è sempre associato ad una _directory corrente_**\n",
    "\n",
    "<center>\n",
    "<img src=\"assets/fs_ref5.png\" width=50%/>\n",
    "</center>\n",
    "\n",
    "* Si indica la directory \"padre\" con la notazione \"..\"\n",
    "* \"f3.exe\" da \"dir2\": \"..\\dir1\\f3.exe\"\t\t(\"../dir1/f3.exe\")"
   ]
  },
  {
   "cell_type": "markdown",
   "metadata": {
    "slideshow": {
     "slide_type": "subslide"
    }
   },
   "source": [
    "## File System\n",
    "\n",
    "**Un programma è sempre associato ad una _directory corrente_**\n",
    "\n",
    "<center>\n",
    "<img src=\"assets/fs_ref6.png\" width=50%/>\n",
    "</center>\n",
    "\n",
    "* Si indica la directory \"padre\" con la notazione \"..\"\n",
    "* \"f1.c\" evidenziato, da \"dir2\": \"..\\f1.c\"\t(\"../f1.c\")"
   ]
  },
  {
   "cell_type": "markdown",
   "metadata": {
    "slideshow": {
     "slide_type": "subslide"
    }
   },
   "source": [
    "## Esercizio: Directory Corrente\n",
    "\n",
    "**Verifichiamo come un programma sia associato ad una directory corrente**\n",
    "\n",
    "* Aprite un terminale\n",
    "* Quindi eseguite il comando \"`pwd`\"\n",
    "\n",
    "Il comando visualizza il percorso assoluto della directory corrente\n",
    "\n",
    "**Di \"default\" (se non diversamente specificato) questa la vostra _home_**\n",
    "\n",
    "* Su Windows (recente) ha un percorso del tipo \"`C:\\Users\\<nome utente>`\"\n",
    "* Su OSX/Linux ha un percorso del tipo \"`/home/<nome utente>`\""
   ]
  },
  {
   "cell_type": "markdown",
   "metadata": {
    "slideshow": {
     "slide_type": "subslide"
    }
   },
   "source": [
    "## Esercizio: Contenuto di una Cartella\n",
    "\n",
    "**La vostra home è una cartella che contiene i vostri file personali. Tipicamente:**\n",
    "\n",
    "* Documenti (una cartella)\n",
    "* Download\n",
    "* Desktop (è una cartella anche lui)!\n",
    "* ...\n",
    "\n",
    "**Provate a visualizzare il contenuto della cartella corrente**\n",
    "\n",
    "Per farlo, eseguite il comando \"`ls`\"\n",
    "\n",
    "* Dovreste vedere i file/cartelle indicati sopra"
   ]
  },
  {
   "cell_type": "markdown",
   "metadata": {
    "slideshow": {
     "slide_type": "subslide"
    }
   },
   "source": [
    "## Esercizio: Cambiare la Cartella Corrente\n",
    "\n",
    "**È possibile cambiare la cartella corrente**\n",
    "\n",
    "Per farlo, potete usare il comando \"`cd <percorso cartella>`\"\n",
    "\n",
    "* Il percoso può essere assoluto o relativo\n",
    "* In particolare, se volete spostarvi in una cartella contenuta in quella corrente\n",
    "* ...Allora basta eseguire \"`cd <nome della cartella contenuta>`\n",
    "\n",
    "**Completamento automatico**\n",
    "\n",
    "* Se a metà della digitazione di un percorso premete \"tab\"\n",
    "* ...Il terminale cercherà di _completare il nome_\n",
    "\n",
    "Si tratta di una funzionalità molto utile!"
   ]
  },
  {
   "cell_type": "markdown",
   "metadata": {
    "slideshow": {
     "slide_type": "subslide"
    }
   },
   "source": [
    "## Esercizio: Cambiare la Cartella Corrente\n",
    "\n",
    "**Se il nome di una cartella _contiene spazi_**\n",
    "\n",
    "...Non è possibile scriverli direttamente, ma si possono usare dei _caratteri speciali_\n",
    "\n",
    "* Per esempio, per spostarsi in una directory \"parte 2\"\n",
    "* ...Su Linux si usa \"`cd parte\\ 2`\", dove \"`\\<spazio>`\" indica lo spazio\n",
    "* Su Windows la codifica è diversa\n",
    "\n",
    "Suggerimento: usate \"tab\" ed il terminale completerà correttamente il percorso\n",
    "\n",
    "\n",
    "**Per tornare sui vostri passi potete usare:**\n",
    "\n",
    "* Il comando \"`cd ..`\", che vi sposta nella cartella contenente\n",
    "* Il comando \"`cd ~`\", che vi sposta nella cartella home\n",
    "  - Se non sapete come scrivere il simbolo \"~\", [guardate qui](http://www.computer-facile.com/computer/344-come-scrivere-il-carattere-tilde-da-tastiera)\n",
    "\n",
    "**Provate a spostarvi nella cartella \"Documenti\", quindi tornare nella home**"
   ]
  },
  {
   "cell_type": "markdown",
   "metadata": {
    "slideshow": {
     "slide_type": "subslide"
    }
   },
   "source": [
    "## Esercizio: Raggiungere la Lezione di Oggi\n",
    "\n",
    "**Proviamo con qualcosa di un po' più complicato**\n",
    "\n",
    "Sul vostro PC, preparate una cartella per il corso\n",
    "\n",
    "* È una buona idea metterla da qualche parte in \"`Documenti`\"\n",
    "  - ...O ovunque teniate le lezioni di solito\n",
    "* Siete (chiaramente) liberi di non farlo\n",
    "  - ...Però poi starà a voi ritrovare il materiale in mezzo al casino :-)\n",
    "\n",
    "Scaricate quindi la lezione di oggi (in formato zip) dal sito del corso\n",
    "\n",
    "* Spostate il file zip nella cartella che avete preparato"
   ]
  },
  {
   "cell_type": "markdown",
   "metadata": {
    "slideshow": {
     "slide_type": "subslide"
    }
   },
   "source": [
    "## Esercizio: Raggiungere la Lezione di Oggi\n",
    "\n",
    "**Proviamo con qualcosa di un po' più complicato**\n",
    "\n",
    "Estraete l'archivio zip\n",
    "\n",
    "* Su Win, facendo doppio click, può essere che si apra un visualizzatore di zip\n",
    "* Ve ne accorgete se vedete una barra rosa tipo questa\n",
    "\n",
    "<center>\n",
    "<img src=\"assets/one_click_too_much.jpg\" width=50%/>\n",
    "</center>\n",
    "\n",
    "* Se succede usate il click destro: ci sarà una voce per estrarre l'archivio"
   ]
  },
  {
   "cell_type": "markdown",
   "metadata": {
    "slideshow": {
     "slide_type": "subslide"
    }
   },
   "source": [
    "## Esercizio: Raggiungere la Lezione di Oggi\n",
    "\n",
    "**Ora, provate a raggiungere la cartella appena estratta con il terminale**\n",
    "\n",
    "* Aprite un terminale nel solito modo\n",
    "* Usare \"`cd`\" (ed al bisogno \"`cd ..`\" e \"`cd ~`\") per raggiungerla\n",
    "* Vi accorgete di essere nel posto giusto se \"`ls`\" visualizza qualcosa come:\n",
    "\n",
    "```\n",
    "\"01. Architettura dell'Elaboratore.ipynb\"\n",
    "'02. Sistema Operativo.ipynb'\n",
    "'03. (Esercizi) Utilizzo del Terminale.ipynb'\n",
    " pdfs\n",
    " LICENSE.md                     requirements.txt\n",
    " README.md                      rise.css\n",
    " assets\n",
    "```\n",
    "\n",
    "Notate come i nomi dei file vengano visualizzati con la loro estensione (\".txt\", \".md\", etc.)"
   ]
  },
  {
   "cell_type": "markdown",
   "metadata": {
    "slideshow": {
     "slide_type": "subslide"
    }
   },
   "source": [
    "## Struttura di una Lezione\n",
    "\n",
    "**Possiamo ora discutere la struttura della cartella**\n",
    "\n",
    "...Cioè di una lezione tipo\n",
    "\n",
    "* I file `.pynb` sono le lezioni vere e proprie\n",
    "  - Si tratta di <i>notebook</i> del systema Jupyter\n",
    "* La cartella \"`pdfs`\" contiene le slide in formato PDF\n",
    "* La cartella \"`assets`\" contiene immagini ed altri file usati nelle lezioni\n",
    "* Il file \"`LICENSE.md`\" contiene la licenza d'uso del materiale\n",
    "* Il file \"`README.md`\" contiene alcune informazioni per accedere alla lezione\n",
    "* Il file \"`requirements.txt`\" contiene una lista di pacchetti Python che useremo\n",
    "* Il file \"`rise.css`\" contiene informazioni su come visualizzare le slide"
   ]
  },
  {
   "cell_type": "markdown",
   "metadata": {
    "slideshow": {
     "slide_type": "subslide"
    }
   },
   "source": [
    "## Esercizio: Visualizzare il Contenuto di un File\n",
    "\n",
    "**È possibile visualizzare il contenuto di un file _di testo_ dal terminale**\n",
    "\n",
    "* Per farlo, potete usare il \"`cat <percorso del file>`\"\n",
    "* Usandolo sul file \"`README.md`\" dovreste vedere qualcosa del genere:\n",
    "\n",
    "```\n",
    "# README\n",
    "\n",
    "Questa è una delle lezioni dell'insegnamento Fondamenti di Informatica T, del corso di laurea in Ingegneria dell'Energia Elettrica dell'Università di Bologna.\n",
    "\n",
    "...\n",
    "```\n",
    "\n",
    "Provate a fare lo stesso con gli altri file nella cartella"
   ]
  },
  {
   "cell_type": "markdown",
   "metadata": {
    "slideshow": {
     "slide_type": "subslide"
    }
   },
   "source": [
    "## Esercizio: Visualizzare il Contenuto di un File\n",
    "\n",
    "**Il terminale può visualizzare solo testo**\n",
    "\n",
    "* Eseguendo \"`cat`\" su un file non testuale si ottengono strani risultati\n",
    "* ...Il terminale si sforza di interpretare la sequenza di bit come testo\n",
    "\n",
    "**Vediamolo in atto**\n",
    "\n",
    "* Spostatevi nella cartella \"`assets`\"\n",
    "* Eseguite cat sul file \"`Dante.docx`\" (che è un documento MS Word)\n",
    "\n",
    "Dovreste ottenere una sequenza di strani simboli"
   ]
  }
 ],
 "metadata": {
  "celltoolbar": "Slideshow",
  "kernelspec": {
   "display_name": "Python 3 (ipykernel)",
   "language": "python",
   "name": "python3"
  },
  "language_info": {
   "codemirror_mode": {
    "name": "ipython",
    "version": 3
   },
   "file_extension": ".py",
   "mimetype": "text/x-python",
   "name": "python",
   "nbconvert_exporter": "python",
   "pygments_lexer": "ipython3",
   "version": "3.11.7"
  },
  "rise": {
   "center": false,
   "enable_chalkboard": true,
   "transition": "fade"
  }
 },
 "nbformat": 4,
 "nbformat_minor": 4
}
