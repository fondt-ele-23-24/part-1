{
 "cells": [
  {
   "cell_type": "markdown",
   "metadata": {
    "slideshow": {
     "slide_type": "slide"
    }
   },
   "source": [
    "# Gestione della Complessità"
   ]
  },
  {
   "cell_type": "markdown",
   "metadata": {
    "slideshow": {
     "slide_type": "subslide"
    }
   },
   "source": [
    "## Questioni di Scala\n",
    "\n",
    "<center>\n",
    "<img src=\"assets/car.png\" width=70%/>\n",
    "</center>\n",
    "\n",
    "<i>\"A single car has about _30,000_ parts, counting every part down to the smallest screws\"</i>\n",
    "\n",
    "(Toyota, [children's  question room](https://www.toyota.co.jp/en/kids/faq/))"
   ]
  },
  {
   "cell_type": "markdown",
   "metadata": {
    "slideshow": {
     "slide_type": "subslide"
    }
   },
   "source": [
    "## Questioni di Scala\n",
    "\n",
    "<center>\n",
    "<img src=\"assets/chip.png\" width=70%/>\n",
    "</center>\n",
    "\n",
    "<i>\"A single Sky, Kaby or Coffee Lake CPU core and its caches has approximately _217 million_ transistors\"</i>\n",
    "\n",
    "(anon. utente, dopo un calcolo grossolano)"
   ]
  },
  {
   "cell_type": "markdown",
   "metadata": {
    "slideshow": {
     "slide_type": "subslide"
    }
   },
   "source": [
    "## Livelli di Astrazione\n",
    "\n",
    "**Come gestire tale complessità? Si opera per _livelli di astrazione_**\n",
    "\n",
    "<center>\n",
    "<img src=\"assets/stack.png\" width=30%/>\n",
    "</center>\n",
    "\n",
    "* L'_hardware_ è l'elaboratore (e.g. Dell XPS 15' 2019)\n",
    "* Il _Sistema Operativo_ è un insieme di programmi per gestire l'elaboratore\n",
    "  - E.g. Windows, OSX, Linux/Unix...\n",
    "* I programmi applicativi sono quelli che usiamo di solito\n",
    "  - E.g. MS Word, Esplora Risorse, Music Player, IDE...\n"
   ]
  },
  {
   "cell_type": "markdown",
   "metadata": {
    "slideshow": {
     "slide_type": "subslide"
    }
   },
   "source": [
    "## Livelli di Astrazione\n",
    "\n",
    "**Come gestire tale complessità? Si opera per _livelli di astrazione_**\n",
    "\n",
    "<center>\n",
    "<img src=\"assets/stack.png\" width=30%/>\n",
    "</center>\n",
    "\n",
    "* L'hardware è la vera e propria _macchina fisica_\n",
    "* Il Sistema Operativo realizza si di esso una _macchina virtuale_\n",
    "* I programmi applicativi si avvalgono delle funzionalità del SO"
   ]
  },
  {
   "cell_type": "markdown",
   "metadata": {
    "slideshow": {
     "slide_type": "subslide"
    }
   },
   "source": [
    "## Livelli di Astrazione\n",
    "\n",
    "**Come gestire tale complessità? Si opera per _livelli di astrazione_**\n",
    "\n",
    "<center>\n",
    "<img src=\"assets/stack.png\" width=30%/>\n",
    "</center>\n",
    "\n",
    "* Esistono livelli intermedi, ma non li considereremo\n",
    "  - E.g. firmware (tra HW e SO)\n",
    "  - E.g. driver di dispositivo (tra firmware e SO)\n",
    "  - E.g. runtime/frameworks (tra SO e applicativi)\n",
    "* In questa lezione presenteremo brevemento l'_architettura dell'elaboratore_\n",
    "* ...E discuteremo alcune delle _funzionalità del Sistema Operativo_"
   ]
  },
  {
   "cell_type": "markdown",
   "metadata": {
    "slideshow": {
     "slide_type": "subslide"
    }
   },
   "source": [
    "# Architettura dell'Elaboratore"
   ]
  },
  {
   "cell_type": "markdown",
   "metadata": {
    "slideshow": {
     "slide_type": "subslide"
    }
   },
   "source": [
    "## Macchine di von Neumann\n",
    "\n",
    "**Un elaboratore elettronico:**\n",
    "\n",
    "* È organizzato in unità funzionali\n",
    "* L'architettura è ispirata alla \"Macchina di von Neumann\"\n",
    "* Si tratta di un modello di elaboratore degli anni '40\n",
    "\n",
    "<center>\n",
    "<img src=\"assets/jvn.png\" width=20%/>\n",
    "John Von Neumann\n",
    "</center>"
   ]
  },
  {
   "cell_type": "markdown",
   "metadata": {
    "slideshow": {
     "slide_type": "subslide"
    }
   },
   "source": [
    "## Macchine di von Neumann\n",
    "\n",
    "**Una rappresentazione per la Macchina di von Neumann**\n",
    "\n",
    "<center>\n",
    "<img src=\"assets/mvn.png\" width=50%/>\n",
    "</center>\n",
    "\n",
    "Quattro tipologie di unità funzionale:\n",
    "\n",
    "* Processore (Central Processing Unit – CPU)\n",
    "* Memoria Centrale (RAM  & ROM)\n",
    "* Unità di Input/Output (I/O)\n",
    "* Bus di sistema (per la comunicazione tra componenti)"
   ]
  },
  {
   "cell_type": "markdown",
   "metadata": {
    "slideshow": {
     "slide_type": "subslide"
    }
   },
   "source": [
    "## Macchine di von Neumann\n",
    "\n",
    "**Una rappresentazione per la Macchina di von Neumann**\n",
    "\n",
    "<center>\n",
    "<img src=\"assets/mvn.png\" width=50%/>\n",
    "</center>\n",
    "\n",
    "**La _CPU_ è il cervello del computer**\n",
    "\n",
    "* Può eseguire un insieme di _istruzioni_ elementari\n",
    "  - Velocità determinata dalla _frequenza di clock_ (e.g. 4.9GHz)\n",
    "* Può manipolare un insieme di _tipi di dato primitivi_\n",
    "  - Questi sono rappresentati mediante sequenze di 0/1 (Bit)\n",
    "  - 8 Bit equivalgono ad un Byte"
   ]
  },
  {
   "cell_type": "markdown",
   "metadata": {
    "slideshow": {
     "slide_type": "subslide"
    }
   },
   "source": [
    "## Macchine di von Neumann\n",
    "\n",
    "**Una rappresentazione per la Macchina di von Neumann**\n",
    "\n",
    "<center>\n",
    "<img src=\"assets/mvn.png\" width=50%/>\n",
    "</center>\n",
    "\n",
    "**La _CPU_ è il cervello del computer**\n",
    "\n",
    "* Può memorizzare una _quantità limitata_ di informazioni\n",
    "  - Pochi MB, nella cosiddetta _memoria cache_\n",
    "  - ...Ma con accesso molto veloce (e.g. meno di 1 ns)\n",
    "* _Non_ può memorizzare informazioni in modo persistente (è volatile)\n",
    "  - Quando il PC si spegne il contenuto della cache è perso"
   ]
  },
  {
   "cell_type": "markdown",
   "metadata": {
    "slideshow": {
     "slide_type": "subslide"
    }
   },
   "source": [
    "## Macchine di von Neumann\n",
    "\n",
    "**Una rappresentazione per la Macchina di von Neumann**\n",
    "\n",
    "<center>\n",
    "<img src=\"assets/mvn.png\" width=50%/>\n",
    "</center>\n",
    "\n",
    "**La _memoria centrale_ è la \"memoria a breve termine\" del computer**\n",
    "\n",
    "* Può memorizzare una _quantità considerevole_ di informazioni\n",
    "* È costituita dalla _Random Access Memory (RAM)_...\n",
    "  - Alcuni GB di capienza, accesso in ~10ns\n",
    "  - È volatile (il suo contenuto si perde a PC spento)\n",
    "* ...E dalla _Read Only Memory (ROM)_\n",
    "  - Alcuni MB, contiene i programmi necessario all'avvio del PC (BIOS, EFI)"
   ]
  },
  {
   "cell_type": "markdown",
   "metadata": {
    "slideshow": {
     "slide_type": "subslide"
    }
   },
   "source": [
    "## Macchine di von Neumann\n",
    "\n",
    "**Una rappresentazione per la Macchina di von Neumann**\n",
    "\n",
    "<center>\n",
    "<img src=\"assets/mvn.png\" width=50%/>\n",
    "</center>\n",
    "\n",
    "**Le _unità di I/O_ includono (quasi) tutto il resto**\n",
    "\n",
    "* Dispositivi di input (e.g. tastiera, mouse, superfici sensibili al tatto...)\n",
    "* Dispositivi di output (e.g. monitor/display, stampante...)\n",
    "* Scheda di rete, etc.\n",
    "* ...Ma sopratutto la _memoria di massa_ (di cui parleremo tra poco)"
   ]
  },
  {
   "cell_type": "markdown",
   "metadata": {
    "slideshow": {
     "slide_type": "subslide"
    }
   },
   "source": [
    "## Macchine di von Neumann\n",
    "\n",
    "**Una rappresentazione per la Macchina di von Neumann**\n",
    "\n",
    "<center>\n",
    "<img src=\"assets/mvn.png\" width=50%/>\n",
    "</center>\n",
    "\n",
    "**Il _bus_ permette agli altri compoenti di comunicare**\n",
    "\n",
    "* È cosituito da componenti fisici (chip e connessioni elettriche)\n",
    "* La comunicazione si avvale di protocolli standard\n",
    "  - E.g. PCI-express, SATA, USB..."
   ]
  },
  {
   "cell_type": "markdown",
   "metadata": {
    "slideshow": {
     "slide_type": "subslide"
    }
   },
   "source": [
    "## Memoria di Massa\n",
    "\n",
    "**La _memoria di massa_ è una serie di dispositivi di I/O**\n",
    "\n",
    "* ...Il cui scopo è memorizzare informazioni _in modo persistente_\n",
    "* Al prezzo di essere _molto più lenta_ della memoria centrale\n",
    "\n",
    "**Può essere realizzata con diverse tecnologie, e.g.**\n",
    "\n",
    "* Dischi magnetici (dischi rigidi, i vecchi floppy disk)\n",
    "* Memoria flash (Solid State Drive, \"chiavette\" USB)\n",
    "* Dispositivi ottici (CD/DVD)\n",
    "\n",
    "**Ogni tecnologia di distingue per:**\n",
    "\n",
    "* Tempo di accesso (i.e. tempo per iniziare una lettura/scrittura)\n",
    "* Transfer rate (#byte letti/scritti in media per secondo)\n",
    "* Capacità e costo per byte"
   ]
  },
  {
   "cell_type": "markdown",
   "metadata": {
    "slideshow": {
     "slide_type": "subslide"
    }
   },
   "source": [
    "## Memoria di Massa\n",
    "\n",
    "**Nei dischi magnetici**\n",
    "\n",
    "* I bit sono realizzati mediante lo stato di aree magnetiche (N/S)\n",
    "* Tali aree sono disposte su un disco rotante (relativamente lento)\n",
    "\n",
    "<center>\n",
    "<img src=\"assets/hd.jpg\" width=20%/>\n",
    "</center>\n",
    "\n",
    "\n",
    "* Il _tempo di accesso_ tipico è di 5-10 msec\n",
    "* La transfer rate tipica è di 100-200 MB/s\n",
    "* Costo tipico: 15-25\\$ per TB\n",
    "* Capacità tipica: 4-16TB \n"
   ]
  },
  {
   "cell_type": "markdown",
   "metadata": {
    "slideshow": {
     "slide_type": "subslide"
    }
   },
   "source": [
    "## Memoria di Massa\n",
    "\n",
    "**Nelle memorie flash**\n",
    "\n",
    "* I bit sono realizzati mediante circuiti integrati (transistor)\n",
    "\n",
    "<center>\n",
    "<img src=\"assets/flash.jpg\" width=30%/>\n",
    "</center>\n",
    "\n",
    "\n",
    "* Il _tempo di accesso_ tipico è di 25-100 $\\mu$sec\n",
    "* La transfer rate tipica è di 500 MB/s in lettura e 200 MB/s in scrittura\n",
    "  - Le chiavette sono molto più lente!\n",
    "* Costo tipico: 100\\$ per TB\n",
    "* Capacità tipica: 64GB-4TB "
   ]
  },
  {
   "cell_type": "markdown",
   "metadata": {
    "slideshow": {
     "slide_type": "subslide"
    }
   },
   "source": [
    "## Memoria di Massa\n",
    "\n",
    "**Dischi ottici**\n",
    "\n",
    "* I bit sono realizzati mediante l'orientamento di superfici riflettive\n",
    "\n",
    "<center>\n",
    "<img src=\"assets/dvd.jpg\" width=20%/>\n",
    "</center>\n",
    "\n",
    "\n",
    "* Il _tempo di accesso_ tipico è di 100-200 msec\n",
    "* La transfer rate tipica è di 1.2 MB/s\n",
    "* Costo tipico: 25-35\\$ per TB\n",
    "* Capacità tipica: 4.7-8.5GB"
   ]
  },
  {
   "cell_type": "markdown",
   "metadata": {
    "slideshow": {
     "slide_type": "subslide"
    }
   },
   "source": [
    "## Oltre la Macchine di von Neumann\n",
    "\n",
    "**I calcolatori moderni deviano dalla macchine di Von Neumann**\n",
    "\n",
    "Alcune delle differenze più significative:\n",
    "\n",
    "* Bus multipli\n",
    "  - E.g. bus memoria + bus I/O\n",
    "* Presenza di processore/acceleratori dedicati:\n",
    "  - Graphical Processing Unit (GPU)\n",
    "  - Tensor Processing Units (TPU)\n",
    "* Esecuzioni in pipeline (l'esecuzione è divisa in stadi)\n",
    "  - Più istruzioni possono essere in esecuzione contemporaneamente\n",
    "* Architetture parallele\n",
    "  - E.g. core multipli, sistemi multiprocessore"
   ]
  }
 ],
 "metadata": {
  "celltoolbar": "Slideshow",
  "kernelspec": {
   "display_name": "Python 3 (ipykernel)",
   "language": "python",
   "name": "python3"
  },
  "language_info": {
   "codemirror_mode": {
    "name": "ipython",
    "version": 3
   },
   "file_extension": ".py",
   "mimetype": "text/x-python",
   "name": "python",
   "nbconvert_exporter": "python",
   "pygments_lexer": "ipython3",
   "version": "3.11.7"
  },
  "rise": {
   "center": false,
   "enable_chalkboard": true,
   "transition": "fade"
  }
 },
 "nbformat": 4,
 "nbformat_minor": 4
}
